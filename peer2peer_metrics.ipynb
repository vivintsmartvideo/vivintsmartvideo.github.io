{
  "nbformat": 4,
  "nbformat_minor": 0,
  "metadata": {
    "colab": {
      "name": "peer2peer_metrics.ipynb",
      "provenance": [],
      "collapsed_sections": [],
      "authorship_tag": "ABX9TyNIJRsgbmd0vnvIyRoTfL3d",
      "include_colab_link": true
    },
    "kernelspec": {
      "name": "python3",
      "display_name": "Python 3"
    }
  },
  "cells": [
    {
      "cell_type": "markdown",
      "metadata": {
        "id": "view-in-github",
        "colab_type": "text"
      },
      "source": [
        "<a href=\"https://colab.research.google.com/github/vivintsmartvideo/vivintsmartvideo.github.io/blob/master/peer2peer_metrics.ipynb\" target=\"_parent\"><img src=\"https://colab.research.google.com/assets/colab-badge.svg\" alt=\"Open In Colab\"/></a>"
      ]
    },
    {
      "cell_type": "code",
      "metadata": {
        "id": "tNfL9Ple9T8J",
        "colab_type": "code",
        "colab": {
          "base_uri": "https://localhost:8080/",
          "height": 598
        },
        "outputId": "c51d1d05-0e97-4af7-db63-8b240a27fa0e"
      },
      "source": [
        "!pip install pandas-gbq -U\n"
      ],
      "execution_count": null,
      "outputs": [
        {
          "output_type": "stream",
          "text": [
            "Collecting pandas-gbq\n",
            "  Downloading https://files.pythonhosted.org/packages/53/f3/3100eb9332c62c5e5ac486d5421965da23a0b92012825bfbb372b7f8d508/pandas_gbq-0.13.2-py3-none-any.whl\n",
            "Requirement already satisfied, skipping upgrade: pandas>=0.19.0 in /usr/local/lib/python3.6/dist-packages (from pandas-gbq) (1.0.5)\n",
            "Requirement already satisfied, skipping upgrade: pydata-google-auth in /usr/local/lib/python3.6/dist-packages (from pandas-gbq) (1.1.0)\n",
            "Requirement already satisfied, skipping upgrade: setuptools in /usr/local/lib/python3.6/dist-packages (from pandas-gbq) (47.3.1)\n",
            "Requirement already satisfied, skipping upgrade: google-auth in /usr/local/lib/python3.6/dist-packages (from pandas-gbq) (1.17.2)\n",
            "Requirement already satisfied, skipping upgrade: google-cloud-bigquery>=1.11.1 in /usr/local/lib/python3.6/dist-packages (from pandas-gbq) (1.21.0)\n",
            "Requirement already satisfied, skipping upgrade: google-auth-oauthlib in /usr/local/lib/python3.6/dist-packages (from pandas-gbq) (0.4.1)\n",
            "Requirement already satisfied, skipping upgrade: numpy>=1.13.3 in /usr/local/lib/python3.6/dist-packages (from pandas>=0.19.0->pandas-gbq) (1.18.5)\n",
            "Requirement already satisfied, skipping upgrade: python-dateutil>=2.6.1 in /usr/local/lib/python3.6/dist-packages (from pandas>=0.19.0->pandas-gbq) (2.8.1)\n",
            "Requirement already satisfied, skipping upgrade: pytz>=2017.2 in /usr/local/lib/python3.6/dist-packages (from pandas>=0.19.0->pandas-gbq) (2018.9)\n",
            "Requirement already satisfied, skipping upgrade: rsa<5,>=3.1.4; python_version >= \"3\" in /usr/local/lib/python3.6/dist-packages (from google-auth->pandas-gbq) (4.6)\n",
            "Requirement already satisfied, skipping upgrade: six>=1.9.0 in /usr/local/lib/python3.6/dist-packages (from google-auth->pandas-gbq) (1.12.0)\n",
            "Requirement already satisfied, skipping upgrade: cachetools<5.0,>=2.0.0 in /usr/local/lib/python3.6/dist-packages (from google-auth->pandas-gbq) (4.1.0)\n",
            "Requirement already satisfied, skipping upgrade: pyasn1-modules>=0.2.1 in /usr/local/lib/python3.6/dist-packages (from google-auth->pandas-gbq) (0.2.8)\n",
            "Requirement already satisfied, skipping upgrade: google-cloud-core<2.0dev,>=1.0.3 in /usr/local/lib/python3.6/dist-packages (from google-cloud-bigquery>=1.11.1->pandas-gbq) (1.0.3)\n",
            "Requirement already satisfied, skipping upgrade: protobuf>=3.6.0 in /usr/local/lib/python3.6/dist-packages (from google-cloud-bigquery>=1.11.1->pandas-gbq) (3.10.0)\n",
            "Requirement already satisfied, skipping upgrade: google-resumable-media!=0.4.0,<0.5.0dev,>=0.3.1 in /usr/local/lib/python3.6/dist-packages (from google-cloud-bigquery>=1.11.1->pandas-gbq) (0.4.1)\n",
            "Requirement already satisfied, skipping upgrade: requests-oauthlib>=0.7.0 in /usr/local/lib/python3.6/dist-packages (from google-auth-oauthlib->pandas-gbq) (1.3.0)\n",
            "Requirement already satisfied, skipping upgrade: pyasn1>=0.1.3 in /usr/local/lib/python3.6/dist-packages (from rsa<5,>=3.1.4; python_version >= \"3\"->google-auth->pandas-gbq) (0.4.8)\n",
            "Requirement already satisfied, skipping upgrade: google-api-core<2.0.0dev,>=1.14.0 in /usr/local/lib/python3.6/dist-packages (from google-cloud-core<2.0dev,>=1.0.3->google-cloud-bigquery>=1.11.1->pandas-gbq) (1.16.0)\n",
            "Requirement already satisfied, skipping upgrade: oauthlib>=3.0.0 in /usr/local/lib/python3.6/dist-packages (from requests-oauthlib>=0.7.0->google-auth-oauthlib->pandas-gbq) (3.1.0)\n",
            "Requirement already satisfied, skipping upgrade: requests>=2.0.0 in /usr/local/lib/python3.6/dist-packages (from requests-oauthlib>=0.7.0->google-auth-oauthlib->pandas-gbq) (2.23.0)\n",
            "Requirement already satisfied, skipping upgrade: googleapis-common-protos<2.0dev,>=1.6.0 in /usr/local/lib/python3.6/dist-packages (from google-api-core<2.0.0dev,>=1.14.0->google-cloud-core<2.0dev,>=1.0.3->google-cloud-bigquery>=1.11.1->pandas-gbq) (1.52.0)\n",
            "Requirement already satisfied, skipping upgrade: urllib3!=1.25.0,!=1.25.1,<1.26,>=1.21.1 in /usr/local/lib/python3.6/dist-packages (from requests>=2.0.0->requests-oauthlib>=0.7.0->google-auth-oauthlib->pandas-gbq) (1.24.3)\n",
            "Requirement already satisfied, skipping upgrade: certifi>=2017.4.17 in /usr/local/lib/python3.6/dist-packages (from requests>=2.0.0->requests-oauthlib>=0.7.0->google-auth-oauthlib->pandas-gbq) (2020.4.5.2)\n",
            "Requirement already satisfied, skipping upgrade: idna<3,>=2.5 in /usr/local/lib/python3.6/dist-packages (from requests>=2.0.0->requests-oauthlib>=0.7.0->google-auth-oauthlib->pandas-gbq) (2.9)\n",
            "Requirement already satisfied, skipping upgrade: chardet<4,>=3.0.2 in /usr/local/lib/python3.6/dist-packages (from requests>=2.0.0->requests-oauthlib>=0.7.0->google-auth-oauthlib->pandas-gbq) (3.0.4)\n",
            "Installing collected packages: pandas-gbq\n",
            "  Found existing installation: pandas-gbq 0.11.0\n",
            "    Uninstalling pandas-gbq-0.11.0:\n",
            "      Successfully uninstalled pandas-gbq-0.11.0\n",
            "Successfully installed pandas-gbq-0.13.2\n"
          ],
          "name": "stdout"
        }
      ]
    },
    {
      "cell_type": "code",
      "metadata": {
        "id": "OeUSXQU98i2s",
        "colab_type": "code",
        "colab": {
          "base_uri": "https://localhost:8080/",
          "height": 51
        },
        "outputId": "4701e84b-4690-4c30-9868-39a6f3b1a504"
      },
      "source": [
        "import seaborn as sns\n",
        "import pandas as pd\n",
        "import matplotlib.pyplot as plt\n",
        "import numpy as np\n",
        "import pandas_gbq"
      ],
      "execution_count": null,
      "outputs": [
        {
          "output_type": "stream",
          "text": [
            "/usr/local/lib/python3.6/dist-packages/statsmodels/tools/_testing.py:19: FutureWarning: pandas.util.testing is deprecated. Use the functions in the public API at pandas.testing instead.\n",
            "  import pandas.util.testing as tm\n"
          ],
          "name": "stderr"
        }
      ]
    },
    {
      "cell_type": "code",
      "metadata": {
        "id": "WTxF1ilc9adc",
        "colab_type": "code",
        "colab": {}
      },
      "source": [
        "%matplotlib inline"
      ],
      "execution_count": null,
      "outputs": []
    },
    {
      "cell_type": "code",
      "metadata": {
        "id": "n-54yihN9db8",
        "colab_type": "code",
        "colab": {}
      },
      "source": [
        "plt.rcParams[\"figure.figsize\"] = (30,10)"
      ],
      "execution_count": null,
      "outputs": []
    },
    {
      "cell_type": "markdown",
      "metadata": {
        "id": "I5_rFYY--QH3",
        "colab_type": "text"
      },
      "source": [
        "# Peer to Peer Metrics"
      ]
    },
    {
      "cell_type": "markdown",
      "metadata": {
        "id": "6tJDXvFt-U6m",
        "colab_type": "text"
      },
      "source": [
        "## MixPanel Data"
      ]
    },
    {
      "cell_type": "code",
      "metadata": {
        "id": "I6j2l6U89nnd",
        "colab_type": "code",
        "colab": {
          "base_uri": "https://localhost:8080/",
          "height": 88
        },
        "outputId": "162c9086-d4ea-4e2f-a588-0a973daf8aba"
      },
      "source": [
        "project_id = \"video-analytics-193323\"\n",
        "\n",
        "sql = \"\"\"\n",
        "SELECT mp_event_name, mp_duration, mp_device_id, app, peer_to_peer_boolean, camera_type, panel_version, device_id, signaling, ice_candidate_pair, mp_carrier, mp_processing_time_ms, mp_app_version_string, firmware_version, mp_brand, service_number, mp_insert_id, connected_to\n",
        "FROM `mixpanel-prod-1.mixpanel_nessie_day_partitioned_944021.mp_master_event`\n",
        "WHERE peer_to_peer_boolean = TRUE AND mp_event_name = \"Camera Play\"\n",
        "ORDER BY mp_duration DESC\n",
        "LIMIT 10000\n",
        "\"\"\"\n",
        "df = pandas_gbq.read_gbq(sql, project_id=project_id)"
      ],
      "execution_count": null,
      "outputs": [
        {
          "output_type": "stream",
          "text": [
            "Please visit this URL to authorize this application: https://accounts.google.com/o/oauth2/auth?response_type=code&client_id=725825577420-unm2gnkiprugilg743tkbig250f4sfsj.apps.googleusercontent.com&redirect_uri=urn%3Aietf%3Awg%3Aoauth%3A2.0%3Aoob&scope=https%3A%2F%2Fwww.googleapis.com%2Fauth%2Fbigquery&state=3n55for0rWVnnhLGsUsNoYyql1vkO3&prompt=consent&access_type=offline\n",
            "Enter the authorization code: 4/1QHaG5X8gFZ-1CsPmetOATMCSvJJsKvRYHRsMf63XAoFYbey4ZfLuyg\n"
          ],
          "name": "stdout"
        },
        {
          "output_type": "stream",
          "text": [
            "Downloading: 100%|██████████| 1205/1205 [00:00<00:00, 3170.87rows/s]\n"
          ],
          "name": "stderr"
        }
      ]
    },
    {
      "cell_type": "markdown",
      "metadata": {
        "id": "exmJJZSe_dTG",
        "colab_type": "text"
      },
      "source": [
        "### Average Camera Load Times"
      ]
    },
    {
      "cell_type": "code",
      "metadata": {
        "id": "f-An0atr_abd",
        "colab_type": "code",
        "colab": {
          "base_uri": "https://localhost:8080/",
          "height": 357
        },
        "outputId": "e32ef2af-1f53-4c74-e927-727e41d1139d"
      },
      "source": [
        "df.groupby('mp_app_version_string')['mp_duration'].mean()"
      ],
      "execution_count": null,
      "outputs": [
        {
          "output_type": "execute_result",
          "data": {
            "text/plain": [
              "mp_app_version_string\n",
              "20.4.100           5.470500\n",
              "20.4.300           5.383667\n",
              "20.5.300           4.644833\n",
              "20.5.301 (3)       5.298000\n",
              "20.6.100           6.263500\n",
              "20.6.100 (1)       5.520571\n",
              "20.6.300           5.751622\n",
              "20.6.300 (3)       5.306114\n",
              "20.7.200 (327)     7.127000\n",
              "20.7.200 (330)     7.802000\n",
              "20.7.200 (331)     3.301250\n",
              "20.7.200 (332)     3.906793\n",
              "20.7.200 (333)     3.749333\n",
              "20.7.200 (334)     3.479683\n",
              "20.7.200 (335)    11.203040\n",
              "20.7.200 (336)     3.732507\n",
              "20.7.200 (4)       3.177739\n",
              "20.7.200 (999)     6.125670\n",
              "Name: mp_duration, dtype: float64"
            ]
          },
          "metadata": {
            "tags": []
          },
          "execution_count": 6
        }
      ]
    },
    {
      "cell_type": "markdown",
      "metadata": {
        "id": "YC7mXzyj__P6",
        "colab_type": "text"
      },
      "source": [
        "### Average Camera Load Times Table data"
      ]
    },
    {
      "cell_type": "code",
      "metadata": {
        "id": "6386CIbA_7sK",
        "colab_type": "code",
        "colab": {
          "base_uri": "https://localhost:8080/",
          "height": 881
        },
        "outputId": "100c9df8-d5ae-40ac-c838-fa539a91a516"
      },
      "source": [
        "df"
      ],
      "execution_count": null,
      "outputs": [
        {
          "output_type": "execute_result",
          "data": {
            "text/html": [
              "<div>\n",
              "<style scoped>\n",
              "    .dataframe tbody tr th:only-of-type {\n",
              "        vertical-align: middle;\n",
              "    }\n",
              "\n",
              "    .dataframe tbody tr th {\n",
              "        vertical-align: top;\n",
              "    }\n",
              "\n",
              "    .dataframe thead th {\n",
              "        text-align: right;\n",
              "    }\n",
              "</style>\n",
              "<table border=\"1\" class=\"dataframe\">\n",
              "  <thead>\n",
              "    <tr style=\"text-align: right;\">\n",
              "      <th></th>\n",
              "      <th>mp_event_name</th>\n",
              "      <th>mp_duration</th>\n",
              "      <th>mp_device_id</th>\n",
              "      <th>app</th>\n",
              "      <th>peer_to_peer_boolean</th>\n",
              "      <th>camera_type</th>\n",
              "      <th>panel_version</th>\n",
              "      <th>device_id</th>\n",
              "      <th>signaling</th>\n",
              "      <th>ice_candidate_pair</th>\n",
              "      <th>mp_carrier</th>\n",
              "      <th>mp_processing_time_ms</th>\n",
              "      <th>mp_app_version_string</th>\n",
              "      <th>firmware_version</th>\n",
              "      <th>mp_brand</th>\n",
              "      <th>service_number</th>\n",
              "      <th>mp_insert_id</th>\n",
              "      <th>connected_to</th>\n",
              "    </tr>\n",
              "  </thead>\n",
              "  <tbody>\n",
              "    <tr>\n",
              "      <th>0</th>\n",
              "      <td>Camera Play</td>\n",
              "      <td>2493.222000</td>\n",
              "      <td>None</td>\n",
              "      <td>Android</td>\n",
              "      <td>True</td>\n",
              "      <td>Doorbell Camera Pro</td>\n",
              "      <td>3.20.1.30340</td>\n",
              "      <td>ANDROID_ID:e156ac3382e72dfd</td>\n",
              "      <td>firebase</td>\n",
              "      <td>srflx / srflx</td>\n",
              "      <td>T-Mobile</td>\n",
              "      <td>1.593028e+12</td>\n",
              "      <td>20.7.200 (335)</td>\n",
              "      <td>1.0.20.350.rc</td>\n",
              "      <td>samsung</td>\n",
              "      <td>5360378.0</td>\n",
              "      <td>15795b9e5b484594</td>\n",
              "      <td>Home network</td>\n",
              "    </tr>\n",
              "    <tr>\n",
              "      <th>1</th>\n",
              "      <td>Camera Play</td>\n",
              "      <td>226.104000</td>\n",
              "      <td>None</td>\n",
              "      <td>Android</td>\n",
              "      <td>True</td>\n",
              "      <td>Doorbell Camera Pro</td>\n",
              "      <td>3.20.2.30727</td>\n",
              "      <td>ANDROID_ID:cfe3660c70633068</td>\n",
              "      <td>firebase</td>\n",
              "      <td>host / host</td>\n",
              "      <td>Verizon Wireless</td>\n",
              "      <td>1.593133e+12</td>\n",
              "      <td>20.7.200 (999)</td>\n",
              "      <td>1.0.20.350.rc</td>\n",
              "      <td>Verizon</td>\n",
              "      <td>5756816.0</td>\n",
              "      <td>28631274f2985518</td>\n",
              "      <td>Home network</td>\n",
              "    </tr>\n",
              "    <tr>\n",
              "      <th>2</th>\n",
              "      <td>Camera Play</td>\n",
              "      <td>56.936001</td>\n",
              "      <td>2CDB82C6-9379-4A90-ACAE-2CD4D4409199</td>\n",
              "      <td>iOS</td>\n",
              "      <td>True</td>\n",
              "      <td>Doorbell Camera Pro</td>\n",
              "      <td>3.20.1.30338</td>\n",
              "      <td>0AB032D6-B5F7-45BD-85C4-FB760E463BA0</td>\n",
              "      <td>None</td>\n",
              "      <td>srflx / srflx</td>\n",
              "      <td>AT&amp;T</td>\n",
              "      <td>1.592883e+12</td>\n",
              "      <td>20.6.300</td>\n",
              "      <td>1.0.20.350.rc</td>\n",
              "      <td>None</td>\n",
              "      <td>5360078.0</td>\n",
              "      <td>8acc1ec65d70efb7</td>\n",
              "      <td>Home network</td>\n",
              "    </tr>\n",
              "    <tr>\n",
              "      <th>3</th>\n",
              "      <td>Camera Play</td>\n",
              "      <td>48.202000</td>\n",
              "      <td>2CDB82C6-9379-4A90-ACAE-2CD4D4409199</td>\n",
              "      <td>iOS</td>\n",
              "      <td>True</td>\n",
              "      <td>Doorbell Camera Pro</td>\n",
              "      <td>3.20.1.30338</td>\n",
              "      <td>0AB032D6-B5F7-45BD-85C4-FB760E463BA0</td>\n",
              "      <td>None</td>\n",
              "      <td>srflx / srflx</td>\n",
              "      <td>AT&amp;T</td>\n",
              "      <td>1.592883e+12</td>\n",
              "      <td>20.6.300</td>\n",
              "      <td>1.0.20.350.rc</td>\n",
              "      <td>None</td>\n",
              "      <td>5360078.0</td>\n",
              "      <td>004bfe5dc1f21b47</td>\n",
              "      <td>Home network</td>\n",
              "    </tr>\n",
              "    <tr>\n",
              "      <th>4</th>\n",
              "      <td>Camera Play</td>\n",
              "      <td>45.227001</td>\n",
              "      <td>B93E25DE-8A90-4C38-AFBD-44D56D2B6E71</td>\n",
              "      <td>iOS</td>\n",
              "      <td>True</td>\n",
              "      <td>Doorbell Camera Pro</td>\n",
              "      <td>3.20.1.30338</td>\n",
              "      <td>B93E25DE-8A90-4C38-AFBD-44D56D2B6E71</td>\n",
              "      <td>None</td>\n",
              "      <td>srflx / srflx</td>\n",
              "      <td>Verizon</td>\n",
              "      <td>1.592770e+12</td>\n",
              "      <td>20.6.300</td>\n",
              "      <td>1.0.20.350.rc</td>\n",
              "      <td>None</td>\n",
              "      <td>6582515.0</td>\n",
              "      <td>2d454ac11ee58723</td>\n",
              "      <td>Home network</td>\n",
              "    </tr>\n",
              "    <tr>\n",
              "      <th>...</th>\n",
              "      <td>...</td>\n",
              "      <td>...</td>\n",
              "      <td>...</td>\n",
              "      <td>...</td>\n",
              "      <td>...</td>\n",
              "      <td>...</td>\n",
              "      <td>...</td>\n",
              "      <td>...</td>\n",
              "      <td>...</td>\n",
              "      <td>...</td>\n",
              "      <td>...</td>\n",
              "      <td>...</td>\n",
              "      <td>...</td>\n",
              "      <td>...</td>\n",
              "      <td>...</td>\n",
              "      <td>...</td>\n",
              "      <td>...</td>\n",
              "      <td>...</td>\n",
              "    </tr>\n",
              "    <tr>\n",
              "      <th>1200</th>\n",
              "      <td>Camera Play</td>\n",
              "      <td>NaN</td>\n",
              "      <td>0AA5A2FD-9432-4F91-A95C-03C9C898236A</td>\n",
              "      <td>iOS</td>\n",
              "      <td>True</td>\n",
              "      <td>Doorbell Camera Pro</td>\n",
              "      <td>3.20.2.30727</td>\n",
              "      <td>BD086CDA-A8AA-4B92-83B4-A64BB13D9B70</td>\n",
              "      <td>None</td>\n",
              "      <td>host / prflx</td>\n",
              "      <td>Sprint</td>\n",
              "      <td>1.592779e+12</td>\n",
              "      <td>20.6.300</td>\n",
              "      <td>1.0.20.350.rc</td>\n",
              "      <td>None</td>\n",
              "      <td>5433007.0</td>\n",
              "      <td>edb2c8da811a4812</td>\n",
              "      <td>Home network</td>\n",
              "    </tr>\n",
              "    <tr>\n",
              "      <th>1201</th>\n",
              "      <td>Camera Play</td>\n",
              "      <td>NaN</td>\n",
              "      <td>D39872D7-6BD9-430E-BED3-7FEDC054B229</td>\n",
              "      <td>iOS</td>\n",
              "      <td>True</td>\n",
              "      <td>Doorbell Camera Pro</td>\n",
              "      <td>3.20.2.30727</td>\n",
              "      <td>887B11EC-1649-4728-8DD2-ABDB42E497B7</td>\n",
              "      <td>None</td>\n",
              "      <td>host / prflx</td>\n",
              "      <td>Bell</td>\n",
              "      <td>1.592913e+12</td>\n",
              "      <td>20.6.300</td>\n",
              "      <td>1.0.20.350.rc</td>\n",
              "      <td>None</td>\n",
              "      <td>7310885.0</td>\n",
              "      <td>beefda83ffd08809</td>\n",
              "      <td>Smart Hub</td>\n",
              "    </tr>\n",
              "    <tr>\n",
              "      <th>1202</th>\n",
              "      <td>Camera Play</td>\n",
              "      <td>NaN</td>\n",
              "      <td>D7DF958A-1DF4-43D5-A219-863A1453E75F</td>\n",
              "      <td>iOS</td>\n",
              "      <td>True</td>\n",
              "      <td>Doorbell Camera Pro</td>\n",
              "      <td>3.20.1.30338</td>\n",
              "      <td>88279179-6FA1-4A44-A72C-5135DC8D6AD1</td>\n",
              "      <td>None</td>\n",
              "      <td>srflx / srflx</td>\n",
              "      <td>Verizon</td>\n",
              "      <td>1.592858e+12</td>\n",
              "      <td>20.6.300</td>\n",
              "      <td>1.0.20.350.rc</td>\n",
              "      <td>None</td>\n",
              "      <td>6772616.0</td>\n",
              "      <td>b1b54ea22e24a694</td>\n",
              "      <td>Home network</td>\n",
              "    </tr>\n",
              "    <tr>\n",
              "      <th>1203</th>\n",
              "      <td>Camera Play</td>\n",
              "      <td>NaN</td>\n",
              "      <td>CE10E715-4959-4A6E-9AC4-FBEAB996F67E</td>\n",
              "      <td>iOS</td>\n",
              "      <td>True</td>\n",
              "      <td>Doorbell Camera Pro</td>\n",
              "      <td>3.20.0.29905</td>\n",
              "      <td>BB0EA548-3906-4401-93EE-E549D1DE1D70</td>\n",
              "      <td>None</td>\n",
              "      <td>host / prflx</td>\n",
              "      <td>Verizon</td>\n",
              "      <td>1.592857e+12</td>\n",
              "      <td>20.6.300</td>\n",
              "      <td>1.0.20.350.rc</td>\n",
              "      <td>None</td>\n",
              "      <td>5352376.0</td>\n",
              "      <td>7f9ae1a930cfacc6</td>\n",
              "      <td>Smart Hub</td>\n",
              "    </tr>\n",
              "    <tr>\n",
              "      <th>1204</th>\n",
              "      <td>Camera Play</td>\n",
              "      <td>NaN</td>\n",
              "      <td>855E3483-425F-468F-86DB-7F993208A2BC</td>\n",
              "      <td>iOS</td>\n",
              "      <td>True</td>\n",
              "      <td>Doorbell Camera Pro</td>\n",
              "      <td>3.20.2.30527</td>\n",
              "      <td>D6079090-ED8F-4A9E-89C5-F3C9AB1B00B9</td>\n",
              "      <td>None</td>\n",
              "      <td>host / prflx</td>\n",
              "      <td>Verizon</td>\n",
              "      <td>1.592752e+12</td>\n",
              "      <td>20.6.300</td>\n",
              "      <td>1.0.20.350.rc</td>\n",
              "      <td>None</td>\n",
              "      <td>6135991.0</td>\n",
              "      <td>7a9dce7baae67c49</td>\n",
              "      <td>Smart Hub</td>\n",
              "    </tr>\n",
              "  </tbody>\n",
              "</table>\n",
              "<p>1205 rows × 18 columns</p>\n",
              "</div>"
            ],
            "text/plain": [
              "     mp_event_name  mp_duration  ...      mp_insert_id  connected_to\n",
              "0      Camera Play  2493.222000  ...  15795b9e5b484594  Home network\n",
              "1      Camera Play   226.104000  ...  28631274f2985518  Home network\n",
              "2      Camera Play    56.936001  ...  8acc1ec65d70efb7  Home network\n",
              "3      Camera Play    48.202000  ...  004bfe5dc1f21b47  Home network\n",
              "4      Camera Play    45.227001  ...  2d454ac11ee58723  Home network\n",
              "...            ...          ...  ...               ...           ...\n",
              "1200   Camera Play          NaN  ...  edb2c8da811a4812  Home network\n",
              "1201   Camera Play          NaN  ...  beefda83ffd08809     Smart Hub\n",
              "1202   Camera Play          NaN  ...  b1b54ea22e24a694  Home network\n",
              "1203   Camera Play          NaN  ...  7f9ae1a930cfacc6     Smart Hub\n",
              "1204   Camera Play          NaN  ...  7a9dce7baae67c49     Smart Hub\n",
              "\n",
              "[1205 rows x 18 columns]"
            ]
          },
          "metadata": {
            "tags": []
          },
          "execution_count": 7
        }
      ]
    },
    {
      "cell_type": "markdown",
      "metadata": {
        "id": "WImiGZqDAJBh",
        "colab_type": "text"
      },
      "source": [
        "### Average Camera Load Times Boxplots"
      ]
    },
    {
      "cell_type": "code",
      "metadata": {
        "id": "C766Az11AM_2",
        "colab_type": "code",
        "colab": {
          "base_uri": "https://localhost:8080/",
          "height": 623
        },
        "outputId": "cb23bb2b-9e63-492d-805e-670cf703ac5c"
      },
      "source": [
        "sns.barplot(x='mp_app_version_string', y='mp_duration', data=df)"
      ],
      "execution_count": null,
      "outputs": [
        {
          "output_type": "execute_result",
          "data": {
            "text/plain": [
              "<matplotlib.axes._subplots.AxesSubplot at 0x7f1c14baa7f0>"
            ]
          },
          "metadata": {
            "tags": []
          },
          "execution_count": 8
        },
        {
          "output_type": "display_data",
          "data": {
            "image/png": "[encoded data removed]",
            "text/plain": [
              "<Figure size 2160x720 with 1 Axes>"
            ]
          },
          "metadata": {
            "tags": [],
            "needs_background": "light"
          }
        }
      ]
    },
    {
      "cell_type": "markdown",
      "metadata": {
        "id": "QP0AdWlQAT0a",
        "colab_type": "text"
      },
      "source": [
        "### Average Camera Load Times Violinplots"
      ]
    },
    {
      "cell_type": "code",
      "metadata": {
        "id": "1j394npi-t0C",
        "colab_type": "code",
        "colab": {
          "base_uri": "https://localhost:8080/",
          "height": 606
        },
        "outputId": "afbb08a4-1aff-4563-ef1b-2543721ee1dc"
      },
      "source": [
        "ax = sns.violinplot(x=\"mp_app_version_string\", y=\"mp_duration\", data=df)"
      ],
      "execution_count": null,
      "outputs": [
        {
          "output_type": "display_data",
          "data": {
            "image/png": "[encoded data removed]",
            "text/plain": [
              "<Figure size 2160x720 with 1 Axes>"
            ]
          },
          "metadata": {
            "tags": [],
            "needs_background": "light"
          }
        }
      ]
    },
    {
      "cell_type": "markdown",
      "metadata": {
        "id": "7-cvHwsKBt63",
        "colab_type": "text"
      },
      "source": [
        "### Average Camera Load Times Boxplots (removed some versions)"
      ]
    },
    {
      "cell_type": "code",
      "metadata": {
        "id": "TtfSRfIM_Wxw",
        "colab_type": "code",
        "colab": {
          "base_uri": "https://localhost:8080/",
          "height": 640
        },
        "outputId": "ae1e02a6-e196-46b4-be01-7787d64cdcfc"
      },
      "source": [
        "rdf = df[(df['mp_app_version_string']!='20.7.200 (335)') * (df['mp_app_version_string']!='20.7.200 (999)')]\n",
        "ax = sns.boxplot(x=\"mp_app_version_string\",\n",
        "                    y=\"mp_duration\",\n",
        "                    data=rdf,\n",
        "                    order=np.sort(rdf.mp_app_version_string.unique()))"
      ],
      "execution_count": null,
      "outputs": [
        {
          "output_type": "stream",
          "text": [
            "/usr/local/lib/python3.6/dist-packages/pandas/core/computation/expressions.py:178: UserWarning: evaluating in Python space because the '*' operator is not supported by numexpr for the bool dtype, use '&' instead\n",
            "  f\"evaluating in Python space because the {repr(op_str)} \"\n"
          ],
          "name": "stderr"
        },
        {
          "output_type": "display_data",
          "data": {
            "image/png": "[encoded data removed]",
            "text/plain": [
              "<Figure size 2160x720 with 1 Axes>"
            ]
          },
          "metadata": {
            "tags": [],
            "needs_background": "light"
          }
        }
      ]
    },
    {
      "cell_type": "markdown",
      "metadata": {
        "id": "T-CQLdCkB2f1",
        "colab_type": "text"
      },
      "source": [
        "### Average Camera Load Times Violinplots (removed some versions)"
      ]
    },
    {
      "cell_type": "code",
      "metadata": {
        "id": "U5pa7e4U_Kf2",
        "colab_type": "code",
        "colab": {
          "base_uri": "https://localhost:8080/",
          "height": 640
        },
        "outputId": "a1735c3a-cbbb-4a33-aae9-c64a0c9a7db7"
      },
      "source": [
        "rdf = df[(df['mp_app_version_string']!='20.7.200 (335)') * (df['mp_app_version_string']!='20.7.200 (999)')]\n",
        "ax = sns.violinplot(x=\"mp_app_version_string\",\n",
        "                    y=\"mp_duration\",\n",
        "                    data=rdf,\n",
        "                    order=np.sort(rdf.mp_app_version_string.unique()))"
      ],
      "execution_count": null,
      "outputs": [
        {
          "output_type": "stream",
          "text": [
            "/usr/local/lib/python3.6/dist-packages/pandas/core/computation/expressions.py:178: UserWarning: evaluating in Python space because the '*' operator is not supported by numexpr for the bool dtype, use '&' instead\n",
            "  f\"evaluating in Python space because the {repr(op_str)} \"\n"
          ],
          "name": "stderr"
        },
        {
          "output_type": "display_data",
          "data": {
            "image/png": "[encoded data removed]",
            "text/plain": [
              "<Figure size 2160x720 with 1 Axes>"
            ]
          },
          "metadata": {
            "tags": [],
            "needs_background": "light"
          }
        }
      ]
    },
    {
      "cell_type": "code",
      "metadata": {
        "id": "ORfFbgIrB-k7",
        "colab_type": "code",
        "colab": {
          "base_uri": "https://localhost:8080/",
          "height": 34
        },
        "outputId": "45ff9ca7-ae34-4917-ce27-2cedefbbb1fb"
      },
      "source": [
        "sql = \"\"\"\n",
        "SELECT mp_event_name, mp_duration, mp_device_id, app, peer_to_peer_boolean, camera_type, panel_version, device_id, signaling, ice_candidate_pair, mp_carrier, mp_processing_time_ms, mp_app_version_string, firmware_version, mp_brand, service_number, mp_insert_id, connected_to\n",
        "FROM `mixpanel-prod-1.mixpanel_nessie_day_partitioned_944021.mp_master_event`\n",
        "WHERE peer_to_peer_boolean = TRUE\n",
        "LIMIT 10000\n",
        "\"\"\"\n",
        "\n",
        "sr_df = pandas_gbq.read_gbq(sql, project_id=project_id)"
      ],
      "execution_count": null,
      "outputs": [
        {
          "output_type": "stream",
          "text": [
            "Downloading: 100%|██████████| 3305/3305 [00:01<00:00, 3255.82rows/s]\n"
          ],
          "name": "stderr"
        }
      ]
    },
    {
      "cell_type": "markdown",
      "metadata": {
        "id": "-4GmFf3WCU2L",
        "colab_type": "text"
      },
      "source": [
        "### Connection Success Rate"
      ]
    },
    {
      "cell_type": "code",
      "metadata": {
        "id": "B7S6vxQ1CjmL",
        "colab_type": "code",
        "colab": {
          "base_uri": "https://localhost:8080/",
          "height": 762
        },
        "outputId": "64e2ab35-a22b-46ed-85e3-4bc887da37b5"
      },
      "source": [
        "sr_appver_df = sr_df.groupby(['mp_app_version_string', 'mp_event_name'])['mp_event_name'].count().unstack(level=1)\n",
        "sr_appver_df['Camera Play Success Rate'] = sr_appver_df.apply(lambda row: row['Camera Play'] / (row['Camera Play'] + row['Camera Play Aborted'] ), axis=1)\n",
        "sr_appver_df"
      ],
      "execution_count": null,
      "outputs": [
        {
          "output_type": "execute_result",
          "data": {
            "text/html": [
              "<div>\n",
              "<style scoped>\n",
              "    .dataframe tbody tr th:only-of-type {\n",
              "        vertical-align: middle;\n",
              "    }\n",
              "\n",
              "    .dataframe tbody tr th {\n",
              "        vertical-align: top;\n",
              "    }\n",
              "\n",
              "    .dataframe thead th {\n",
              "        text-align: right;\n",
              "    }\n",
              "</style>\n",
              "<table border=\"1\" class=\"dataframe\">\n",
              "  <thead>\n",
              "    <tr style=\"text-align: right;\">\n",
              "      <th>mp_event_name</th>\n",
              "      <th>Camera Play</th>\n",
              "      <th>Camera Play Aborted</th>\n",
              "      <th>Camera Two Way Talk</th>\n",
              "      <th>Camera View Duration</th>\n",
              "      <th>Signaling Server Connection</th>\n",
              "      <th>Camera Play Success Rate</th>\n",
              "    </tr>\n",
              "    <tr>\n",
              "      <th>mp_app_version_string</th>\n",
              "      <th></th>\n",
              "      <th></th>\n",
              "      <th></th>\n",
              "      <th></th>\n",
              "      <th></th>\n",
              "      <th></th>\n",
              "    </tr>\n",
              "  </thead>\n",
              "  <tbody>\n",
              "    <tr>\n",
              "      <th>20.1.401</th>\n",
              "      <td>NaN</td>\n",
              "      <td>2.0</td>\n",
              "      <td>NaN</td>\n",
              "      <td>NaN</td>\n",
              "      <td>NaN</td>\n",
              "      <td>NaN</td>\n",
              "    </tr>\n",
              "    <tr>\n",
              "      <th>20.3.200</th>\n",
              "      <td>NaN</td>\n",
              "      <td>7.0</td>\n",
              "      <td>NaN</td>\n",
              "      <td>NaN</td>\n",
              "      <td>NaN</td>\n",
              "      <td>NaN</td>\n",
              "    </tr>\n",
              "    <tr>\n",
              "      <th>20.4.100</th>\n",
              "      <td>2.0</td>\n",
              "      <td>5.0</td>\n",
              "      <td>NaN</td>\n",
              "      <td>NaN</td>\n",
              "      <td>NaN</td>\n",
              "      <td>0.285714</td>\n",
              "    </tr>\n",
              "    <tr>\n",
              "      <th>20.4.300</th>\n",
              "      <td>3.0</td>\n",
              "      <td>12.0</td>\n",
              "      <td>NaN</td>\n",
              "      <td>NaN</td>\n",
              "      <td>NaN</td>\n",
              "      <td>0.200000</td>\n",
              "    </tr>\n",
              "    <tr>\n",
              "      <th>20.5.101</th>\n",
              "      <td>NaN</td>\n",
              "      <td>6.0</td>\n",
              "      <td>NaN</td>\n",
              "      <td>NaN</td>\n",
              "      <td>NaN</td>\n",
              "      <td>NaN</td>\n",
              "    </tr>\n",
              "    <tr>\n",
              "      <th>20.5.300</th>\n",
              "      <td>12.0</td>\n",
              "      <td>30.0</td>\n",
              "      <td>NaN</td>\n",
              "      <td>1.0</td>\n",
              "      <td>NaN</td>\n",
              "      <td>0.285714</td>\n",
              "    </tr>\n",
              "    <tr>\n",
              "      <th>20.5.301 (3)</th>\n",
              "      <td>1.0</td>\n",
              "      <td>NaN</td>\n",
              "      <td>NaN</td>\n",
              "      <td>NaN</td>\n",
              "      <td>NaN</td>\n",
              "      <td>NaN</td>\n",
              "    </tr>\n",
              "    <tr>\n",
              "      <th>20.6.100</th>\n",
              "      <td>4.0</td>\n",
              "      <td>9.0</td>\n",
              "      <td>NaN</td>\n",
              "      <td>NaN</td>\n",
              "      <td>NaN</td>\n",
              "      <td>0.307692</td>\n",
              "    </tr>\n",
              "    <tr>\n",
              "      <th>20.6.100 (1)</th>\n",
              "      <td>7.0</td>\n",
              "      <td>NaN</td>\n",
              "      <td>NaN</td>\n",
              "      <td>NaN</td>\n",
              "      <td>NaN</td>\n",
              "      <td>NaN</td>\n",
              "    </tr>\n",
              "    <tr>\n",
              "      <th>20.6.300</th>\n",
              "      <td>222.0</td>\n",
              "      <td>762.0</td>\n",
              "      <td>NaN</td>\n",
              "      <td>NaN</td>\n",
              "      <td>NaN</td>\n",
              "      <td>0.225610</td>\n",
              "    </tr>\n",
              "    <tr>\n",
              "      <th>20.6.300 (3)</th>\n",
              "      <td>44.0</td>\n",
              "      <td>46.0</td>\n",
              "      <td>NaN</td>\n",
              "      <td>3.0</td>\n",
              "      <td>NaN</td>\n",
              "      <td>0.488889</td>\n",
              "    </tr>\n",
              "    <tr>\n",
              "      <th>20.6.501 (3)</th>\n",
              "      <td>NaN</td>\n",
              "      <td>1.0</td>\n",
              "      <td>NaN</td>\n",
              "      <td>NaN</td>\n",
              "      <td>NaN</td>\n",
              "      <td>NaN</td>\n",
              "    </tr>\n",
              "    <tr>\n",
              "      <th>20.7.200 (327)</th>\n",
              "      <td>1.0</td>\n",
              "      <td>NaN</td>\n",
              "      <td>NaN</td>\n",
              "      <td>1.0</td>\n",
              "      <td>NaN</td>\n",
              "      <td>NaN</td>\n",
              "    </tr>\n",
              "    <tr>\n",
              "      <th>20.7.200 (330)</th>\n",
              "      <td>1.0</td>\n",
              "      <td>NaN</td>\n",
              "      <td>NaN</td>\n",
              "      <td>NaN</td>\n",
              "      <td>NaN</td>\n",
              "      <td>NaN</td>\n",
              "    </tr>\n",
              "    <tr>\n",
              "      <th>20.7.200 (331)</th>\n",
              "      <td>4.0</td>\n",
              "      <td>NaN</td>\n",
              "      <td>NaN</td>\n",
              "      <td>NaN</td>\n",
              "      <td>NaN</td>\n",
              "      <td>NaN</td>\n",
              "    </tr>\n",
              "    <tr>\n",
              "      <th>20.7.200 (332)</th>\n",
              "      <td>29.0</td>\n",
              "      <td>42.0</td>\n",
              "      <td>2.0</td>\n",
              "      <td>23.0</td>\n",
              "      <td>NaN</td>\n",
              "      <td>0.408451</td>\n",
              "    </tr>\n",
              "    <tr>\n",
              "      <th>20.7.200 (333)</th>\n",
              "      <td>9.0</td>\n",
              "      <td>31.0</td>\n",
              "      <td>NaN</td>\n",
              "      <td>7.0</td>\n",
              "      <td>NaN</td>\n",
              "      <td>0.225000</td>\n",
              "    </tr>\n",
              "    <tr>\n",
              "      <th>20.7.200 (334)</th>\n",
              "      <td>208.0</td>\n",
              "      <td>72.0</td>\n",
              "      <td>4.0</td>\n",
              "      <td>175.0</td>\n",
              "      <td>NaN</td>\n",
              "      <td>0.742857</td>\n",
              "    </tr>\n",
              "    <tr>\n",
              "      <th>20.7.200 (335)</th>\n",
              "      <td>302.0</td>\n",
              "      <td>79.0</td>\n",
              "      <td>9.0</td>\n",
              "      <td>284.0</td>\n",
              "      <td>NaN</td>\n",
              "      <td>0.792651</td>\n",
              "    </tr>\n",
              "    <tr>\n",
              "      <th>20.7.200 (336)</th>\n",
              "      <td>227.0</td>\n",
              "      <td>51.0</td>\n",
              "      <td>6.0</td>\n",
              "      <td>207.0</td>\n",
              "      <td>NaN</td>\n",
              "      <td>0.816547</td>\n",
              "    </tr>\n",
              "    <tr>\n",
              "      <th>20.7.200 (4)</th>\n",
              "      <td>23.0</td>\n",
              "      <td>NaN</td>\n",
              "      <td>NaN</td>\n",
              "      <td>23.0</td>\n",
              "      <td>NaN</td>\n",
              "      <td>NaN</td>\n",
              "    </tr>\n",
              "    <tr>\n",
              "      <th>20.7.200 (999)</th>\n",
              "      <td>106.0</td>\n",
              "      <td>96.0</td>\n",
              "      <td>5.0</td>\n",
              "      <td>98.0</td>\n",
              "      <td>1.0</td>\n",
              "      <td>0.524752</td>\n",
              "    </tr>\n",
              "  </tbody>\n",
              "</table>\n",
              "</div>"
            ],
            "text/plain": [
              "mp_event_name          Camera Play  ...  Camera Play Success Rate\n",
              "mp_app_version_string               ...                          \n",
              "20.1.401                       NaN  ...                       NaN\n",
              "20.3.200                       NaN  ...                       NaN\n",
              "20.4.100                       2.0  ...                  0.285714\n",
              "20.4.300                       3.0  ...                  0.200000\n",
              "20.5.101                       NaN  ...                       NaN\n",
              "20.5.300                      12.0  ...                  0.285714\n",
              "20.5.301 (3)                   1.0  ...                       NaN\n",
              "20.6.100                       4.0  ...                  0.307692\n",
              "20.6.100 (1)                   7.0  ...                       NaN\n",
              "20.6.300                     222.0  ...                  0.225610\n",
              "20.6.300 (3)                  44.0  ...                  0.488889\n",
              "20.6.501 (3)                   NaN  ...                       NaN\n",
              "20.7.200 (327)                 1.0  ...                       NaN\n",
              "20.7.200 (330)                 1.0  ...                       NaN\n",
              "20.7.200 (331)                 4.0  ...                       NaN\n",
              "20.7.200 (332)                29.0  ...                  0.408451\n",
              "20.7.200 (333)                 9.0  ...                  0.225000\n",
              "20.7.200 (334)               208.0  ...                  0.742857\n",
              "20.7.200 (335)               302.0  ...                  0.792651\n",
              "20.7.200 (336)               227.0  ...                  0.816547\n",
              "20.7.200 (4)                  23.0  ...                       NaN\n",
              "20.7.200 (999)               106.0  ...                  0.524752\n",
              "\n",
              "[22 rows x 6 columns]"
            ]
          },
          "metadata": {
            "tags": []
          },
          "execution_count": 13
        }
      ]
    },
    {
      "cell_type": "markdown",
      "metadata": {
        "id": "DhjraLTuCABd",
        "colab_type": "text"
      },
      "source": [
        "### Camera Load Success Rate - Table Raw Data"
      ]
    },
    {
      "cell_type": "code",
      "metadata": {
        "id": "GN8cXch-CMte",
        "colab_type": "code",
        "colab": {
          "base_uri": "https://localhost:8080/",
          "height": 915
        },
        "outputId": "38ff5405-c686-4da8-d005-f8a3000bf952"
      },
      "source": [
        "sr_df"
      ],
      "execution_count": null,
      "outputs": [
        {
          "output_type": "execute_result",
          "data": {
            "text/html": [
              "<div>\n",
              "<style scoped>\n",
              "    .dataframe tbody tr th:only-of-type {\n",
              "        vertical-align: middle;\n",
              "    }\n",
              "\n",
              "    .dataframe tbody tr th {\n",
              "        vertical-align: top;\n",
              "    }\n",
              "\n",
              "    .dataframe thead th {\n",
              "        text-align: right;\n",
              "    }\n",
              "</style>\n",
              "<table border=\"1\" class=\"dataframe\">\n",
              "  <thead>\n",
              "    <tr style=\"text-align: right;\">\n",
              "      <th></th>\n",
              "      <th>mp_event_name</th>\n",
              "      <th>mp_duration</th>\n",
              "      <th>mp_device_id</th>\n",
              "      <th>app</th>\n",
              "      <th>peer_to_peer_boolean</th>\n",
              "      <th>camera_type</th>\n",
              "      <th>panel_version</th>\n",
              "      <th>device_id</th>\n",
              "      <th>signaling</th>\n",
              "      <th>ice_candidate_pair</th>\n",
              "      <th>mp_carrier</th>\n",
              "      <th>mp_processing_time_ms</th>\n",
              "      <th>mp_app_version_string</th>\n",
              "      <th>firmware_version</th>\n",
              "      <th>mp_brand</th>\n",
              "      <th>service_number</th>\n",
              "      <th>mp_insert_id</th>\n",
              "      <th>connected_to</th>\n",
              "    </tr>\n",
              "  </thead>\n",
              "  <tbody>\n",
              "    <tr>\n",
              "      <th>0</th>\n",
              "      <td>Camera Play</td>\n",
              "      <td>5.862000</td>\n",
              "      <td>4B91416F-9D23-40AA-9F03-377824B80F0F</td>\n",
              "      <td>iOS</td>\n",
              "      <td>True</td>\n",
              "      <td>Doorbell Camera Pro</td>\n",
              "      <td>3.20.1.30338</td>\n",
              "      <td>C318C285-08A5-4A9F-A8B3-E27B54BD7139</td>\n",
              "      <td>None</td>\n",
              "      <td>srflx / srflx</td>\n",
              "      <td>Verizon</td>\n",
              "      <td>1.592776e+12</td>\n",
              "      <td>20.6.300</td>\n",
              "      <td>1.0.20.350.rc</td>\n",
              "      <td>None</td>\n",
              "      <td>3416522.0</td>\n",
              "      <td>19b4ab2d857e34b7</td>\n",
              "      <td>Home network</td>\n",
              "    </tr>\n",
              "    <tr>\n",
              "      <th>1</th>\n",
              "      <td>Camera Play</td>\n",
              "      <td>5.688000</td>\n",
              "      <td>4B91416F-9D23-40AA-9F03-377824B80F0F</td>\n",
              "      <td>iOS</td>\n",
              "      <td>True</td>\n",
              "      <td>Doorbell Camera Pro</td>\n",
              "      <td>3.20.1.30338</td>\n",
              "      <td>C318C285-08A5-4A9F-A8B3-E27B54BD7139</td>\n",
              "      <td>None</td>\n",
              "      <td>srflx / srflx</td>\n",
              "      <td>Verizon</td>\n",
              "      <td>1.592791e+12</td>\n",
              "      <td>20.6.300</td>\n",
              "      <td>1.0.20.350.rc</td>\n",
              "      <td>None</td>\n",
              "      <td>3416522.0</td>\n",
              "      <td>8f7c701aaebe2372</td>\n",
              "      <td>Home network</td>\n",
              "    </tr>\n",
              "    <tr>\n",
              "      <th>2</th>\n",
              "      <td>Camera Play Aborted</td>\n",
              "      <td>106.616997</td>\n",
              "      <td>4B91416F-9D23-40AA-9F03-377824B80F0F</td>\n",
              "      <td>iOS</td>\n",
              "      <td>True</td>\n",
              "      <td>Doorbell Camera Pro</td>\n",
              "      <td>3.20.1.30338</td>\n",
              "      <td>C318C285-08A5-4A9F-A8B3-E27B54BD7139</td>\n",
              "      <td>None</td>\n",
              "      <td>None</td>\n",
              "      <td>Verizon</td>\n",
              "      <td>1.592791e+12</td>\n",
              "      <td>20.6.300</td>\n",
              "      <td>1.0.20.350.rc</td>\n",
              "      <td>None</td>\n",
              "      <td>3416522.0</td>\n",
              "      <td>1fde9ea3b0016627</td>\n",
              "      <td>Home network</td>\n",
              "    </tr>\n",
              "    <tr>\n",
              "      <th>3</th>\n",
              "      <td>Camera Play Aborted</td>\n",
              "      <td>38.841999</td>\n",
              "      <td>4B91416F-9D23-40AA-9F03-377824B80F0F</td>\n",
              "      <td>iOS</td>\n",
              "      <td>True</td>\n",
              "      <td>Doorbell Camera Pro</td>\n",
              "      <td>3.20.1.30338</td>\n",
              "      <td>C318C285-08A5-4A9F-A8B3-E27B54BD7139</td>\n",
              "      <td>None</td>\n",
              "      <td>None</td>\n",
              "      <td>Verizon</td>\n",
              "      <td>1.592791e+12</td>\n",
              "      <td>20.6.300</td>\n",
              "      <td>1.0.20.350.rc</td>\n",
              "      <td>None</td>\n",
              "      <td>3416522.0</td>\n",
              "      <td>a512d396ea19d8f5</td>\n",
              "      <td>Home network</td>\n",
              "    </tr>\n",
              "    <tr>\n",
              "      <th>4</th>\n",
              "      <td>Camera Two Way Talk</td>\n",
              "      <td>8.741000</td>\n",
              "      <td>None</td>\n",
              "      <td>Android</td>\n",
              "      <td>True</td>\n",
              "      <td>Doorbell Camera Pro</td>\n",
              "      <td>3.20.2.30727</td>\n",
              "      <td>ANDROID_ID:026c61ad2675d6b3</td>\n",
              "      <td>None</td>\n",
              "      <td>None</td>\n",
              "      <td>AT&amp;T</td>\n",
              "      <td>1.593016e+12</td>\n",
              "      <td>20.7.200 (335)</td>\n",
              "      <td>1.0.20.350.rc</td>\n",
              "      <td>samsung</td>\n",
              "      <td>6314806.0</td>\n",
              "      <td>ac90291a7fba4e6e</td>\n",
              "      <td>Home network</td>\n",
              "    </tr>\n",
              "    <tr>\n",
              "      <th>...</th>\n",
              "      <td>...</td>\n",
              "      <td>...</td>\n",
              "      <td>...</td>\n",
              "      <td>...</td>\n",
              "      <td>...</td>\n",
              "      <td>...</td>\n",
              "      <td>...</td>\n",
              "      <td>...</td>\n",
              "      <td>...</td>\n",
              "      <td>...</td>\n",
              "      <td>...</td>\n",
              "      <td>...</td>\n",
              "      <td>...</td>\n",
              "      <td>...</td>\n",
              "      <td>...</td>\n",
              "      <td>...</td>\n",
              "      <td>...</td>\n",
              "      <td>...</td>\n",
              "    </tr>\n",
              "    <tr>\n",
              "      <th>3300</th>\n",
              "      <td>Camera Play Aborted</td>\n",
              "      <td>25.879999</td>\n",
              "      <td>68A8FD88-496F-4FCB-AA94-0FBB9676E9D0</td>\n",
              "      <td>iOS</td>\n",
              "      <td>True</td>\n",
              "      <td>Doorbell Camera Pro</td>\n",
              "      <td>3.20.2.30727</td>\n",
              "      <td>68A8FD88-496F-4FCB-AA94-0FBB9676E9D0</td>\n",
              "      <td>None</td>\n",
              "      <td>None</td>\n",
              "      <td>TFW</td>\n",
              "      <td>1.593133e+12</td>\n",
              "      <td>20.6.300</td>\n",
              "      <td>1.0.20.350.rc</td>\n",
              "      <td>None</td>\n",
              "      <td>5774013.0</td>\n",
              "      <td>cfcec3fa1e1d0b76</td>\n",
              "      <td>Home network</td>\n",
              "    </tr>\n",
              "    <tr>\n",
              "      <th>3301</th>\n",
              "      <td>Camera Play Aborted</td>\n",
              "      <td>32.115002</td>\n",
              "      <td>68A8FD88-496F-4FCB-AA94-0FBB9676E9D0</td>\n",
              "      <td>iOS</td>\n",
              "      <td>True</td>\n",
              "      <td>Doorbell Camera Pro</td>\n",
              "      <td>3.20.2.30727</td>\n",
              "      <td>68A8FD88-496F-4FCB-AA94-0FBB9676E9D0</td>\n",
              "      <td>None</td>\n",
              "      <td>None</td>\n",
              "      <td>TFW</td>\n",
              "      <td>1.593135e+12</td>\n",
              "      <td>20.6.300</td>\n",
              "      <td>1.0.20.350.rc</td>\n",
              "      <td>None</td>\n",
              "      <td>5774013.0</td>\n",
              "      <td>92e25fff2a518caf</td>\n",
              "      <td>Home network</td>\n",
              "    </tr>\n",
              "    <tr>\n",
              "      <th>3302</th>\n",
              "      <td>Camera Play Aborted</td>\n",
              "      <td>27.648001</td>\n",
              "      <td>68A8FD88-496F-4FCB-AA94-0FBB9676E9D0</td>\n",
              "      <td>iOS</td>\n",
              "      <td>True</td>\n",
              "      <td>Doorbell Camera Pro</td>\n",
              "      <td>3.20.2.30727</td>\n",
              "      <td>68A8FD88-496F-4FCB-AA94-0FBB9676E9D0</td>\n",
              "      <td>None</td>\n",
              "      <td>None</td>\n",
              "      <td>TFW</td>\n",
              "      <td>1.593137e+12</td>\n",
              "      <td>20.6.300</td>\n",
              "      <td>1.0.20.350.rc</td>\n",
              "      <td>None</td>\n",
              "      <td>5774013.0</td>\n",
              "      <td>d8fd3b37fb32e2d4</td>\n",
              "      <td>Home network</td>\n",
              "    </tr>\n",
              "    <tr>\n",
              "      <th>3303</th>\n",
              "      <td>Camera Play Aborted</td>\n",
              "      <td>19.784000</td>\n",
              "      <td>D302BC24-DA36-4406-93AA-821106210D7B</td>\n",
              "      <td>iOS</td>\n",
              "      <td>True</td>\n",
              "      <td>Doorbell Camera Pro</td>\n",
              "      <td>3.20.1.30338</td>\n",
              "      <td>C273C026-9789-4C34-AE41-74E57AED1A9F</td>\n",
              "      <td>None</td>\n",
              "      <td>None</td>\n",
              "      <td>Verizon</td>\n",
              "      <td>1.593130e+12</td>\n",
              "      <td>20.6.300</td>\n",
              "      <td>1.0.20.350.rc</td>\n",
              "      <td>None</td>\n",
              "      <td>5497927.0</td>\n",
              "      <td>798a404f193ac1b3</td>\n",
              "      <td>Home network</td>\n",
              "    </tr>\n",
              "    <tr>\n",
              "      <th>3304</th>\n",
              "      <td>Camera Play Aborted</td>\n",
              "      <td>19.549000</td>\n",
              "      <td>D302BC24-DA36-4406-93AA-821106210D7B</td>\n",
              "      <td>iOS</td>\n",
              "      <td>True</td>\n",
              "      <td>Doorbell Camera Pro</td>\n",
              "      <td>3.20.1.30338</td>\n",
              "      <td>C273C026-9789-4C34-AE41-74E57AED1A9F</td>\n",
              "      <td>None</td>\n",
              "      <td>None</td>\n",
              "      <td>Verizon</td>\n",
              "      <td>1.593135e+12</td>\n",
              "      <td>20.6.300</td>\n",
              "      <td>1.0.20.350.rc</td>\n",
              "      <td>None</td>\n",
              "      <td>5497927.0</td>\n",
              "      <td>99957328d39f86da</td>\n",
              "      <td>Home network</td>\n",
              "    </tr>\n",
              "  </tbody>\n",
              "</table>\n",
              "<p>3305 rows × 18 columns</p>\n",
              "</div>"
            ],
            "text/plain": [
              "            mp_event_name  mp_duration  ...      mp_insert_id  connected_to\n",
              "0             Camera Play     5.862000  ...  19b4ab2d857e34b7  Home network\n",
              "1             Camera Play     5.688000  ...  8f7c701aaebe2372  Home network\n",
              "2     Camera Play Aborted   106.616997  ...  1fde9ea3b0016627  Home network\n",
              "3     Camera Play Aborted    38.841999  ...  a512d396ea19d8f5  Home network\n",
              "4     Camera Two Way Talk     8.741000  ...  ac90291a7fba4e6e  Home network\n",
              "...                   ...          ...  ...               ...           ...\n",
              "3300  Camera Play Aborted    25.879999  ...  cfcec3fa1e1d0b76  Home network\n",
              "3301  Camera Play Aborted    32.115002  ...  92e25fff2a518caf  Home network\n",
              "3302  Camera Play Aborted    27.648001  ...  d8fd3b37fb32e2d4  Home network\n",
              "3303  Camera Play Aborted    19.784000  ...  798a404f193ac1b3  Home network\n",
              "3304  Camera Play Aborted    19.549000  ...  99957328d39f86da  Home network\n",
              "\n",
              "[3305 rows x 18 columns]"
            ]
          },
          "metadata": {
            "tags": []
          },
          "execution_count": 14
        }
      ]
    },
    {
      "cell_type": "markdown",
      "metadata": {
        "id": "TNxADkPu-ZHX",
        "colab_type": "text"
      },
      "source": [
        "## Google Trace Data"
      ]
    },
    {
      "cell_type": "code",
      "metadata": {
        "id": "tlC5HENz-cpb",
        "colab_type": "code",
        "colab": {}
      },
      "source": [
        ""
      ],
      "execution_count": null,
      "outputs": []
    }
  ]
}